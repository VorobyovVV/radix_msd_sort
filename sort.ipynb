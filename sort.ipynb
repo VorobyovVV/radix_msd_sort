{
  "nbformat": 4,
  "nbformat_minor": 0,
  "metadata": {
    "colab": {
      "provenance": []
    },
    "kernelspec": {
      "name": "python3",
      "display_name": "Python 3"
    },
    "language_info": {
      "name": "python"
    }
  },
  "cells": [
    {
      "cell_type": "code",
      "execution_count": 27,
      "metadata": {
        "colab": {
          "base_uri": "https://localhost:8080/"
        },
        "id": "o8I0acde9EDL",
        "outputId": "4a31949a-363d-4f09-fe64-70fa6c7c88ba"
      },
      "outputs": [
        {
          "output_type": "stream",
          "name": "stdout",
          "text": [
            "before radix_sort:\n",
            "['User', 'Admin', 'docx', 'text', 'test']\n",
            "after radix_sort\n",
            "['docx', 'Admin', 'test', 'text', 'User']\n"
          ]
        }
      ],
      "source": [
        "def radix_sort_MSD_for_strings (array, i):\n",
        "\n",
        "    # base case (list must already be sorted)\n",
        "    if len(array) <= 1:\n",
        "        return array\n",
        "\n",
        "    # divide (first by length, then by order of the first character)\n",
        "    done_bucket = []\n",
        "    buckets = [ [] for x in range(64,100) ] # ASCII TABLE A-Z is from 64 to 90\n",
        "\n",
        "    for s in array:\n",
        "        if i >= len(s):\n",
        "            done_bucket.append(s)\n",
        "        else:\n",
        "            buckets[ ord(s[i]) - ord('a') ].append(s)\n",
        "\n",
        "    # ***********conquer (recursively sort buckets)***********\n",
        "    buckets = [ radix_sort_MSD_for_strings (b, i + 1) for b in buckets ]\n",
        "    return done_bucket + [ b for blist in buckets for b in blist ]\n",
        "def main():\n",
        "    array_of_strings = ['User','Admin','docx', 'text', 'test']       # ASCII TABLE A-Z is from 64 to 90 if you want to    #change it  to lowercase letter Also change the bucket list's range                \n",
        "                                                         \n",
        "    print('before radix_sort:')\n",
        "    print (array_of_strings)\n",
        "    array_of_strings = radix_sort_MSD_for_strings (array_of_strings, 0)\n",
        "    print('after radix_sort')\n",
        "    print (array_of_strings)\n",
        "main()"
      ]
    },
    {
      "cell_type": "code",
      "source": [
        "#Генератор\n",
        "\n",
        "import random\n",
        "random.seed(8) # 0, 5, 8, ...\n",
        "\n",
        "# символы, из которых будут составляться слова\n",
        "symbols = 'abcdefghijklmnopqrstuvwxyzABCDEFGHIJKLMNOPQRSTUVWXYZ'\n",
        "\n",
        "def generation_random_string(len1, seed=None):\n",
        "    if seed is not None:\n",
        "        random.seed(seed)\n",
        "        \n",
        "    string = ''.join(random.choice(symbols) for i in range(len1))\n",
        "    \n",
        "    \n",
        "    return string\n",
        "   "
      ],
      "metadata": {
        "id": "rVCKaO0bHeEG"
      },
      "execution_count": 25,
      "outputs": []
    },
    {
      "cell_type": "code",
      "source": [
        " generation_random_string(5)"
      ],
      "metadata": {
        "colab": {
          "base_uri": "https://localhost:8080/",
          "height": 35
        },
        "id": "2o4OFh9hHmRY",
        "outputId": "aa71f4ff-ccca-4f0e-f45c-f820ae755144"
      },
      "execution_count": 26,
      "outputs": [
        {
          "output_type": "execute_result",
          "data": {
            "text/plain": [
              "'oxyim'"
            ],
            "application/vnd.google.colaboratory.intrinsic+json": {
              "type": "string"
            }
          },
          "metadata": {},
          "execution_count": 26
        }
      ]
    }
  ]
}